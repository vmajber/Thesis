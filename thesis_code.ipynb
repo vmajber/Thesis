{
 "cells": [
  {
   "cell_type": "markdown",
   "metadata": {},
   "source": [
    "# TDK dolgozat programkódja az operációs kockázatok becsléséről"
   ]
  },
  {
   "cell_type": "markdown",
   "metadata": {},
   "source": [
    "A számolás során a poisson-lognormális modell módszertanát alkalmaztam, amely az AMA modellezés egyik lehetősége a működési kockázatokkal kapcsolatos tőkekövetelmény meghatározásához.\n"
   ]
  },
  {
   "cell_type": "markdown",
   "metadata": {},
   "source": [
    "Szükséges bővítmények importálása:"
   ]
  },
  {
   "cell_type": "code",
   "execution_count": 1,
   "metadata": {
    "id": "Qmax2-2C9FYu"
   },
   "outputs": [],
   "source": [
    "import numpy as np\n",
    "import statistics as stat\n",
    "from scipy import stats as st\n",
    "import pandas as pd\n",
    "from pandas_profiling import ProfileReport as pp\n",
    "import math as m"
   ]
  },
  {
   "cell_type": "markdown",
   "metadata": {},
   "source": [
    "## Bevezetés:"
   ]
  },
  {
   "cell_type": "markdown",
   "metadata": {},
   "source": [
    "Használt Függvények rogzítése:"
   ]
  },
  {
   "cell_type": "code",
   "execution_count": 2,
   "metadata": {
    "id": "QYezH_1ObnXy"
   },
   "outputs": [],
   "source": [
    "#forrás: https://stackoverflow.com/questions/51740306/scipy-kstest-typeerror-parse-args-takes-from-3-to-5-positional-arguments-but\n",
    "\n",
    "def get_best_distribution(data):\n",
    "    dist_names = [\"expon\", \"pareto\", \"lognorm\"]\n",
    "    dist_results = []\n",
    "    params = {}\n",
    "    for dist_name in dist_names:\n",
    "        dist = getattr(st, dist_name)\n",
    "        param = dist.fit(data)\n",
    "\n",
    "        params[dist_name] = param\n",
    "        # Applying the Kolmogorov-Smirnov test\n",
    "        D, p = st.kstest(data, dist_name, args=param)\n",
    "        print(\"p value for \"+dist_name+\" = \"+str(p))\n",
    "        dist_results.append((dist_name, p))\n",
    "\n",
    "    # select the best fitted distribution\n",
    "    best_dist, best_p = (max(dist_results, key=lambda item: item[1]))\n",
    "    # store the name of the best fit and its p value\n",
    "\n",
    "    print(\"Best fitting distribution: \"+str(best_dist))\n",
    "    print(\"Best p value: \"+ str(p))\n",
    "    print(\"Parameters for the best fit: \"+ str(params[best_dist]))\n",
    "\n",
    "    return best_dist, best_p, params[best_dist]"
   ]
  },
  {
   "cell_type": "code",
   "execution_count": 2,
   "metadata": {},
   "outputs": [],
   "source": [
    "#Saját szerkesztés:\n",
    "def oploss_montecarlo(lambda1, mu1, sigma1, correction, maincycle,subcycle):  \n",
    "  yearly_losses=[]\n",
    "  for cycle in range(maincycle):\n",
    "    operating_loss = []\n",
    "    lambdalist = np.random.poisson(lambda1, subcycle)\n",
    "    for lambdas in lambdalist:\n",
    "        num = sum(np.random.lognormal(mu1, sigma1, lambdas).tolist()) + lambdas*correction\n",
    "        operating_loss.append(num)\n",
    "    yearly_losses.append(np.percentile(np.array(operating_loss),99.9))\n",
    "  capital = stat.mean(yearly_losses)\n",
    "  return capital"
   ]
  },
  {
   "cell_type": "code",
   "execution_count": 88,
   "metadata": {
    "colab": {
     "base_uri": "https://localhost:8080/"
    },
    "id": "wb67f6GeKnZR",
    "outputId": "1ccdc7c5-086b-40bc-a159-940b4355844f",
    "scrolled": true
   },
   "outputs": [
    {
     "data": {
      "text/plain": [
       "832562232.6375118"
      ]
     },
     "execution_count": 88,
     "metadata": {},
     "output_type": "execute_result"
    }
   ],
   "source": [
    "cap = oploss_montecarlo(2,12.3,2.5,50000,100,40000)\n",
    "cap"
   ]
  },
  {
   "cell_type": "markdown",
   "metadata": {
    "id": "dbZLaFeAGa4U"
   },
   "source": [
    "## Adatelemzés:"
   ]
  },
  {
   "cell_type": "code",
   "execution_count": 2,
   "metadata": {
    "id": "wV0dj1uoHjUN",
    "scrolled": true
   },
   "outputs": [
    {
     "data": {
      "text/html": [
       "<div>\n",
       "<style scoped>\n",
       "    .dataframe tbody tr th:only-of-type {\n",
       "        vertical-align: middle;\n",
       "    }\n",
       "\n",
       "    .dataframe tbody tr th {\n",
       "        vertical-align: top;\n",
       "    }\n",
       "\n",
       "    .dataframe thead th {\n",
       "        text-align: right;\n",
       "    }\n",
       "</style>\n",
       "<table border=\"1\" class=\"dataframe\">\n",
       "  <thead>\n",
       "    <tr style=\"text-align: right;\">\n",
       "      <th></th>\n",
       "      <th>Azonosító</th>\n",
       "      <th>Eseménytípus 1. szint</th>\n",
       "      <th>Eseménytípus 2. szint</th>\n",
       "      <th>Eseménytípus 3. szint</th>\n",
       "      <th>Üzletág 1</th>\n",
       "      <th>év</th>\n",
       "      <th>veszteség_teljes</th>\n",
       "      <th>lossrounded</th>\n",
       "      <th>group_1</th>\n",
       "      <th>group_2</th>\n",
       "      <th>ln</th>\n",
       "      <th>lossrounded-50k</th>\n",
       "      <th>ln2</th>\n",
       "    </tr>\n",
       "  </thead>\n",
       "  <tbody>\n",
       "    <tr>\n",
       "      <th>0</th>\n",
       "      <td>30000</td>\n",
       "      <td>2. Külső csalás</td>\n",
       "      <td>1. Lopás és csalás (külső)</td>\n",
       "      <td>NaN</td>\n",
       "      <td>Lakossági bank tevékenység</td>\n",
       "      <td>2010</td>\n",
       "      <td>666821.1</td>\n",
       "      <td>666821.0</td>\n",
       "      <td>2</td>\n",
       "      <td>1</td>\n",
       "      <td>13.410277</td>\n",
       "      <td>616821.0</td>\n",
       "      <td>13.332334</td>\n",
       "    </tr>\n",
       "    <tr>\n",
       "      <th>1</th>\n",
       "      <td>30001</td>\n",
       "      <td>7. Végrehajtás, teljesítés és folyamatkezelés</td>\n",
       "      <td>1. Tranzakció rögzítése, lebonyolítása és keze...</td>\n",
       "      <td>NaN</td>\n",
       "      <td>Lakossági közvetítői tevékenység</td>\n",
       "      <td>2010</td>\n",
       "      <td>137519.8</td>\n",
       "      <td>137520.0</td>\n",
       "      <td>7</td>\n",
       "      <td>1</td>\n",
       "      <td>11.831525</td>\n",
       "      <td>87520.0</td>\n",
       "      <td>11.379623</td>\n",
       "    </tr>\n",
       "    <tr>\n",
       "      <th>2</th>\n",
       "      <td>30002</td>\n",
       "      <td>7. Végrehajtás, teljesítés és folyamatkezelés</td>\n",
       "      <td>1. Tranzakció rögzítése, lebonyolítása és keze...</td>\n",
       "      <td>NaN</td>\n",
       "      <td>Lakossági bank tevékenység</td>\n",
       "      <td>2009</td>\n",
       "      <td>85800.0</td>\n",
       "      <td>85800.0</td>\n",
       "      <td>7</td>\n",
       "      <td>1</td>\n",
       "      <td>11.359774</td>\n",
       "      <td>35800.0</td>\n",
       "      <td>10.485703</td>\n",
       "    </tr>\n",
       "    <tr>\n",
       "      <th>3</th>\n",
       "      <td>30004</td>\n",
       "      <td>2. Külső csalás</td>\n",
       "      <td>1. Lopás és csalás (külső)</td>\n",
       "      <td>NaN</td>\n",
       "      <td>Lakossági bank tevékenység</td>\n",
       "      <td>2009</td>\n",
       "      <td>533137.0</td>\n",
       "      <td>533137.0</td>\n",
       "      <td>2</td>\n",
       "      <td>1</td>\n",
       "      <td>13.186534</td>\n",
       "      <td>483137.0</td>\n",
       "      <td>13.088056</td>\n",
       "    </tr>\n",
       "    <tr>\n",
       "      <th>4</th>\n",
       "      <td>30005</td>\n",
       "      <td>2. Külső csalás</td>\n",
       "      <td>1. Lopás és csalás (külső)</td>\n",
       "      <td>NaN</td>\n",
       "      <td>Lakossági bank tevékenység</td>\n",
       "      <td>2010</td>\n",
       "      <td>112875.4</td>\n",
       "      <td>112875.0</td>\n",
       "      <td>2</td>\n",
       "      <td>1</td>\n",
       "      <td>11.634036</td>\n",
       "      <td>62875.0</td>\n",
       "      <td>11.048904</td>\n",
       "    </tr>\n",
       "  </tbody>\n",
       "</table>\n",
       "</div>"
      ],
      "text/plain": [
       "   Azonosító                          Eseménytípus 1. szint  \\\n",
       "0      30000                                2. Külső csalás   \n",
       "1      30001  7. Végrehajtás, teljesítés és folyamatkezelés   \n",
       "2      30002  7. Végrehajtás, teljesítés és folyamatkezelés   \n",
       "3      30004                                2. Külső csalás   \n",
       "4      30005                                2. Külső csalás   \n",
       "\n",
       "                               Eseménytípus 2. szint Eseménytípus 3. szint  \\\n",
       "0                         1. Lopás és csalás (külső)                   NaN   \n",
       "1  1. Tranzakció rögzítése, lebonyolítása és keze...                   NaN   \n",
       "2  1. Tranzakció rögzítése, lebonyolítása és keze...                   NaN   \n",
       "3                         1. Lopás és csalás (külső)                   NaN   \n",
       "4                         1. Lopás és csalás (külső)                   NaN   \n",
       "\n",
       "                          Üzletág 1    év  veszteség_teljes  lossrounded  \\\n",
       "0        Lakossági bank tevékenység  2010          666821.1     666821.0   \n",
       "1  Lakossági közvetítői tevékenység  2010          137519.8     137520.0   \n",
       "2        Lakossági bank tevékenység  2009           85800.0      85800.0   \n",
       "3        Lakossági bank tevékenység  2009          533137.0     533137.0   \n",
       "4        Lakossági bank tevékenység  2010          112875.4     112875.0   \n",
       "\n",
       "  group_1 group_2         ln  lossrounded-50k        ln2  \n",
       "0       2       1  13.410277         616821.0  13.332334  \n",
       "1       7       1  11.831525          87520.0  11.379623  \n",
       "2       7       1  11.359774          35800.0  10.485703  \n",
       "3       2       1  13.186534         483137.0  13.088056  \n",
       "4       2       1  11.634036          62875.0  11.048904  "
      ]
     },
     "execution_count": 2,
     "metadata": {},
     "output_type": "execute_result"
    }
   ],
   "source": [
    "df = pd.read_excel('....../data.xlsx')\n",
    "df[\"lossrounded\"] = df[\"veszteség_teljes\"].round()\n",
    "df['group_1'] = df['Eseménytípus 1. szint'].astype(str).str[0]\n",
    "df['group_2'] = df['Eseménytípus 2. szint'].astype(str).str[0]\n",
    "\n",
    "df = df[df['lossrounded'] > 50000]\n",
    "ln = []\n",
    "for i in df[\"lossrounded\"]:\n",
    "    ln.append(m.log(i))\n",
    "df[\"ln\"] = ln\n",
    "\n",
    "df[\"lossrounded-50k\"] = df[\"lossrounded\"]-50000\n",
    "ln2=[]\n",
    "for i in df[\"lossrounded-50k\"]:\n",
    "    ln2.append(m.log(i))\n",
    "df[\"ln2\"] = ln2\n",
    "\n",
    "df.head()"
   ]
  },
  {
   "cell_type": "code",
   "execution_count": null,
   "metadata": {},
   "outputs": [],
   "source": [
    "profile = pp(df)\n",
    "profile"
   ]
  },
  {
   "cell_type": "code",
   "execution_count": 12,
   "metadata": {
    "colab": {
     "base_uri": "https://localhost:8080/"
    },
    "id": "PGgQ-xyyK4e6",
    "outputId": "46cb71d6-130d-4459-8597-e60a05861592"
   },
   "outputs": [
    {
     "name": "stdout",
     "output_type": "stream",
     "text": [
      "p value for expon = 3.4315834621090682e-90\n",
      "p value for pareto = 2.52228723761856e-123\n",
      "p value for lognorm = 0.0002699989133036274\n",
      "Best fitting distribution: lognorm\n",
      "Best p value: 0.0002699989133036274\n",
      "Parameters for the best fit: (0.5841198450864463, 10.411247436524752, 1.8299388098201028)\n"
     ]
    },
    {
     "data": {
      "text/plain": [
       "('lognorm',\n",
       " 0.0002699989133036274,\n",
       " (0.5841198450864463, 10.411247436524752, 1.8299388098201028))"
      ]
     },
     "execution_count": 12,
     "metadata": {},
     "output_type": "execute_result"
    }
   ],
   "source": [
    "get_best_distribution(df[\"ln\"])"
   ]
  },
  {
   "cell_type": "code",
   "execution_count": 15,
   "metadata": {},
   "outputs": [
    {
     "name": "stdout",
     "output_type": "stream",
     "text": [
      "p value for expon = 0.0\n",
      "p value for pareto = 0.0\n"
     ]
    },
    {
     "name": "stderr",
     "output_type": "stream",
     "text": [
      "/Users/rajkal/opt/anaconda3/lib/python3.8/site-packages/scipy/stats/_distn_infrastructure.py:2429: RuntimeWarning: invalid value encountered in double_scalars\n",
      "  Lhat = muhat - Shat*mu\n"
     ]
    },
    {
     "name": "stdout",
     "output_type": "stream",
     "text": [
      "p value for lognorm = 7.631911597097408e-06\n",
      "Best fitting distribution: lognorm\n",
      "Best p value: 7.631911597097408e-06\n",
      "Parameters for the best fit: (0.14944905313783607, 1.0116970412208683, 10.998821355540544)\n"
     ]
    },
    {
     "data": {
      "text/plain": [
       "('lognorm',\n",
       " 7.631911597097408e-06,\n",
       " (0.14944905313783607, 1.0116970412208683, 10.998821355540544))"
      ]
     },
     "execution_count": 15,
     "metadata": {},
     "output_type": "execute_result"
    }
   ],
   "source": [
    "get_best_distribution(df[\"ln2\"])"
   ]
  },
  {
   "cell_type": "markdown",
   "metadata": {},
   "source": [
    "## Tőke becslés eseménycsoportonként:"
   ]
  },
  {
   "cell_type": "code",
   "execution_count": 10,
   "metadata": {},
   "outputs": [
    {
     "name": "stdout",
     "output_type": "stream",
     "text": [
      "13  az érték amelyel osztani kell majd a lambda értékek meghatározásához.\n"
     ]
    }
   ],
   "source": [
    "ev = int(max(df[\"év\"])-min(df[\"év\"]))+1\n",
    "print((max(df[\"év\"])-min(df[\"év\"])+1), \" az érték amelyel osztani kell majd a lambda értékek meghatározásához.\")"
   ]
  },
  {
   "cell_type": "code",
   "execution_count": 41,
   "metadata": {},
   "outputs": [],
   "source": [
    "full_capital = 0"
   ]
  },
  {
   "cell_type": "markdown",
   "metadata": {
    "id": "FwODjG7NZSfX"
   },
   "source": [
    "1 csoport:"
   ]
  },
  {
   "cell_type": "code",
   "execution_count": 42,
   "metadata": {},
   "outputs": [
    {
     "name": "stdout",
     "output_type": "stream",
     "text": [
      "λ= 2.3846153846153846  μ= 14.417019660439184   σ= 2.483770618621262\n"
     ]
    },
    {
     "data": {
      "text/plain": [
       "7427359002.626592"
      ]
     },
     "execution_count": 42,
     "metadata": {},
     "output_type": "execute_result"
    }
   ],
   "source": [
    "event_type_1 = df[df['group_1']== \"1\"]\n",
    "print(\"\\u03BB=\",len(event_type_1)/ev,\n",
    "      \" \\u03BC=\", stat.mean(event_type_1[\"ln2\"]), \"  \\u03C3=\", m.sqrt(stat.pvariance(event_type_1[\"ln2\"])))\n",
    "\n",
    "type_1_cap=oploss_montecarlo(len(event_type_1)/ev, stat.mean(event_type_1[\"ln2\"]), m.sqrt(stat.pvariance(event_type_1[\"ln2\"])),50000,100,100000)\n",
    "full_capital += type_1_cap\n",
    "type_1_cap"
   ]
  },
  {
   "cell_type": "markdown",
   "metadata": {},
   "source": [
    "2 csoport:"
   ]
  },
  {
   "cell_type": "code",
   "execution_count": 43,
   "metadata": {},
   "outputs": [
    {
     "name": "stdout",
     "output_type": "stream",
     "text": [
      "λ= 182.46153846153845  μ= 11.83353233030263   σ= 1.4130994405547246\n"
     ]
    },
    {
     "data": {
      "text/plain": [
       "153343298.779297"
      ]
     },
     "execution_count": 43,
     "metadata": {},
     "output_type": "execute_result"
    }
   ],
   "source": [
    "event_type_2 = df[df['group_1']== \"2\"]\n",
    "print(\"\\u03BB=\",len(event_type_2)/ev,\n",
    "      \" \\u03BC=\", stat.mean(event_type_2[\"ln2\"]), \"  \\u03C3=\", m.sqrt(stat.pvariance(event_type_2[\"ln2\"])))\n",
    "\n",
    "type_2_cap=oploss_montecarlo(len(event_type_2)/ev, stat.mean(event_type_2[\"ln2\"]), m.sqrt(stat.pvariance(event_type_2[\"ln2\"])),50000,100,100000)\n",
    "full_capital += type_2_cap\n",
    "type_2_cap"
   ]
  },
  {
   "cell_type": "markdown",
   "metadata": {},
   "source": [
    "3: csoport"
   ]
  },
  {
   "cell_type": "code",
   "execution_count": 44,
   "metadata": {},
   "outputs": [
    {
     "name": "stdout",
     "output_type": "stream",
     "text": [
      "λ= 7.3076923076923075  μ= 13.335235065423712   σ= 2.4068459929237123\n"
     ]
    },
    {
     "data": {
      "text/plain": [
       "4016967017.691008"
      ]
     },
     "execution_count": 44,
     "metadata": {},
     "output_type": "execute_result"
    }
   ],
   "source": [
    "event_type_3 = df[df['group_1']== \"3\"]\n",
    "print(\"\\u03BB=\",len(event_type_3)/ev,\n",
    "      \" \\u03BC=\", stat.mean(event_type_3[\"ln2\"]), \"  \\u03C3=\", m.sqrt(stat.pvariance(event_type_3[\"ln2\"])))\n",
    "\n",
    "type_3_cap=oploss_montecarlo(len(event_type_3)/ev, stat.mean(event_type_3[\"ln2\"]), m.sqrt(stat.pvariance(event_type_3[\"ln2\"])),50000,100,100000)\n",
    "full_capital += type_3_cap\n",
    "type_3_cap"
   ]
  },
  {
   "cell_type": "markdown",
   "metadata": {},
   "source": [
    "4. csoport:"
   ]
  },
  {
   "cell_type": "code",
   "execution_count": 45,
   "metadata": {},
   "outputs": [
    {
     "name": "stdout",
     "output_type": "stream",
     "text": [
      "λ= 21.384615384615383  μ= 12.572951895077766   σ= 2.35749335386795\n"
     ]
    },
    {
     "data": {
      "text/plain": [
       "2908456061.6852875"
      ]
     },
     "execution_count": 45,
     "metadata": {},
     "output_type": "execute_result"
    }
   ],
   "source": [
    "event_type_4 = df[df['group_1']== \"4\"]\n",
    "print(\"\\u03BB=\",len(event_type_4)/ev,\n",
    "      \" \\u03BC=\", stat.mean(event_type_4[\"ln2\"]), \"  \\u03C3=\", m.sqrt(stat.variance(event_type_4[\"ln2\"])))\n",
    "\n",
    "type_4_cap=oploss_montecarlo(len(event_type_4)/ev, stat.mean(event_type_4[\"ln2\"]), m.sqrt(stat.pvariance(event_type_4[\"ln2\"])),50000,100,100000)\n",
    "full_capital += type_4_cap\n",
    "type_4_cap"
   ]
  },
  {
   "cell_type": "markdown",
   "metadata": {},
   "source": [
    "5. csoport:"
   ]
  },
  {
   "cell_type": "code",
   "execution_count": 46,
   "metadata": {},
   "outputs": [
    {
     "name": "stdout",
     "output_type": "stream",
     "text": [
      "λ= 108.76923076923077  μ= 12.330049045081665   σ= 1.2098304440981569\n"
     ]
    },
    {
     "data": {
      "text/plain": [
       "104729411.41484989"
      ]
     },
     "execution_count": 46,
     "metadata": {},
     "output_type": "execute_result"
    }
   ],
   "source": [
    "event_type_5 = df[df['group_1']== \"5\"]\n",
    "print(\"\\u03BB=\",len(event_type_5)/ev,\n",
    "      \" \\u03BC=\", stat.mean(event_type_5[\"ln2\"]), \"  \\u03C3=\", m.sqrt(stat.variance(event_type_5[\"ln2\"])))\n",
    "\n",
    "type_5_cap=oploss_montecarlo(len(event_type_5)/ev, stat.mean(event_type_5[\"ln2\"]), m.sqrt(stat.pvariance(event_type_5[\"ln2\"])),50000,100,100000)\n",
    "full_capital += type_5_cap\n",
    "type_5_cap"
   ]
  },
  {
   "cell_type": "markdown",
   "metadata": {},
   "source": [
    "6. csoport:"
   ]
  },
  {
   "cell_type": "code",
   "execution_count": 47,
   "metadata": {},
   "outputs": [
    {
     "name": "stdout",
     "output_type": "stream",
     "text": [
      "λ= 19.53846153846154  μ= 13.10624232980248   σ= 2.371655947930479\n"
     ]
    },
    {
     "data": {
      "text/plain": [
       "5035295037.356569"
      ]
     },
     "execution_count": 47,
     "metadata": {},
     "output_type": "execute_result"
    }
   ],
   "source": [
    "event_type_6 = df[df['group_1']== \"6\"]\n",
    "print(\"\\u03BB=\",len(event_type_6)/ev,\n",
    "      \" \\u03BC=\", stat.mean(event_type_6[\"ln2\"]), \"  \\u03C3=\", m.sqrt(stat.variance(event_type_6[\"ln2\"])))\n",
    "\n",
    "type_6_cap=oploss_montecarlo(len(event_type_6)/ev, stat.mean(event_type_6[\"ln2\"]), m.sqrt(stat.pvariance(event_type_6[\"ln2\"])),50000,100,100000)\n",
    "full_capital += type_6_cap\n",
    "type_6_cap"
   ]
  },
  {
   "cell_type": "markdown",
   "metadata": {},
   "source": [
    "7. csoport:"
   ]
  },
  {
   "cell_type": "code",
   "execution_count": 48,
   "metadata": {},
   "outputs": [
    {
     "name": "stdout",
     "output_type": "stream",
     "text": [
      "λ= 155.76923076923077  μ= 12.076558145093147   σ= 1.84707045479318\n"
     ]
    },
    {
     "data": {
      "text/plain": [
       "719518812.6838214"
      ]
     },
     "execution_count": 48,
     "metadata": {},
     "output_type": "execute_result"
    }
   ],
   "source": [
    "event_type_7 = df[df['group_1']== \"7\"]\n",
    "print(\"\\u03BB=\",len(event_type_7)/ev,\n",
    "      \" \\u03BC=\", stat.mean(event_type_7[\"ln2\"]), \"  \\u03C3=\", m.sqrt(stat.variance(event_type_7[\"ln2\"])))\n",
    "\n",
    "type_7_cap=oploss_montecarlo(len(event_type_7)/ev, stat.mean(event_type_7[\"ln2\"]), m.sqrt(stat.pvariance(event_type_7[\"ln2\"])),50000,100,100000)\n",
    "full_capital += type_7_cap\n",
    "type_7_cap"
   ]
  },
  {
   "cell_type": "code",
   "execution_count": 49,
   "metadata": {},
   "outputs": [
    {
     "data": {
      "text/plain": [
       "20365668642.237427"
      ]
     },
     "execution_count": 49,
     "metadata": {},
     "output_type": "execute_result"
    }
   ],
   "source": [
    "full_capital"
   ]
  },
  {
   "cell_type": "markdown",
   "metadata": {},
   "source": [
    "Első csoport vizsgálata:"
   ]
  },
  {
   "cell_type": "code",
   "execution_count": 51,
   "metadata": {},
   "outputs": [
    {
     "name": "stdout",
     "output_type": "stream",
     "text": [
      "6364        56700.0\n",
      "6452        84964.0\n",
      "5645       110000.0\n",
      "5627       110000.0\n",
      "6451       142273.0\n",
      "2532       165000.0\n",
      "1117       240766.0\n",
      "2107       469681.0\n",
      "3990       550000.0\n",
      "1207       804066.0\n",
      "2372       841254.0\n",
      "1210       868341.0\n",
      "137       1054386.0\n",
      "2839      1149500.0\n",
      "2502      1320000.0\n",
      "6257      1499507.0\n",
      "244       2200000.0\n",
      "2236      2292943.0\n",
      "891       3144411.0\n",
      "5626      3330800.0\n",
      "2431      3491093.0\n",
      "1810     10022264.0\n",
      "133      18520401.0\n",
      "6287     20537564.0\n",
      "2603     25892710.0\n",
      "6258     27703104.0\n",
      "6166     32038600.0\n",
      "6259     35100209.0\n",
      "3153     61111111.0\n",
      "4145     64460000.0\n",
      "6191    176043590.0\n",
      "Name: lossrounded, dtype: float64\n"
     ]
    }
   ],
   "source": [
    "sorted_1 = event_type_1.sort_values(by=['lossrounded'])\n",
    "print(sorted_1[\"lossrounded\"])"
   ]
  },
  {
   "cell_type": "code",
   "execution_count": 114,
   "metadata": {},
   "outputs": [
    {
     "data": {
      "image/png": "[encoded data removed]",
      "text/plain": [
       "<Figure size 432x288 with 1 Axes>"
      ]
     },
     "metadata": {},
     "output_type": "display_data"
    }
   ],
   "source": [
    "import seaborn as sns\n",
    "ax = sns.boxplot(x=sorted_1[\"lossrounded\"], color =\"w\")"
   ]
  },
  {
   "cell_type": "code",
   "execution_count": 129,
   "metadata": {},
   "outputs": [
    {
     "name": "stdout",
     "output_type": "stream",
     "text": [
      "λ= 2.3076923076923075  μ= 14.264721711391001   σ= 2.418831096648721\n"
     ]
    },
    {
     "data": {
      "text/plain": [
       "4384628682.396625"
      ]
     },
     "execution_count": 129,
     "metadata": {},
     "output_type": "execute_result"
    }
   ],
   "source": [
    "print(\"\\u03BB=\",len(sorted_1[\"ln2\"][0:len(sorted_1)-1])/ev,\n",
    "      \" \\u03BC=\", stat.mean(sorted_1[\"ln2\"][0:len(sorted_1)-1]), \"  \\u03C3=\", m.sqrt(stat.variance(sorted_1[\"ln2\"][0:len(sorted_1)-1])))\n",
    "\n",
    "oploss_montecarlo(len(sorted_1[\"ln2\"][0:len(sorted_1)-1])/ev,\n",
    "                  stat.mean(sorted_1[\"ln2\"][0:len(sorted_1)-1]),\n",
    "                  m.sqrt(stat.pvariance(sorted_1[\"ln2\"][0:len(sorted_1)-1])),50000,100,100000)"
   ]
  },
  {
   "cell_type": "code",
   "execution_count": 130,
   "metadata": {},
   "outputs": [
    {
     "name": "stdout",
     "output_type": "stream",
     "text": [
      "λ= 2.230769230769231  μ= 14.746747325121905   σ= 2.244102748893725\n"
     ]
    },
    {
     "data": {
      "text/plain": [
       "3904639844.5257177"
      ]
     },
     "execution_count": 130,
     "metadata": {},
     "output_type": "execute_result"
    }
   ],
   "source": [
    "sortdown = sorted_1[\"ln2\"][2:]\n",
    "print(\"\\u03BB=\",len(sorted_1[\"ln2\"][2:])/ev,\n",
    "      \" \\u03BC=\", stat.mean(sorted_1[\"ln2\"][2:]), \"  \\u03C3=\", m.sqrt(stat.variance(sorted_1[\"ln2\"][2:])))\n",
    "\n",
    "oploss_montecarlo(len(sorted_1[\"ln2\"][2:])/ev,\n",
    "                  stat.mean(sorted_1[\"ln2\"][2:]),\n",
    "                  m.sqrt(stat.pvariance(sorted_1[\"ln2\"][2:])),\n",
    "                  50000,100,100000)"
   ]
  },
  {
   "cell_type": "code",
   "execution_count": 128,
   "metadata": {},
   "outputs": [
    {
     "name": "stdout",
     "output_type": "stream",
     "text": [
      "λ= 2.1538461538461537  μ= 14.001195933674417   σ= 2.2811863059470086\n"
     ]
    },
    {
     "data": {
      "text/plain": [
       "2039299506.431687"
      ]
     },
     "execution_count": 128,
     "metadata": {},
     "output_type": "execute_result"
    }
   ],
   "source": [
    "sortup = sorted_1[\"ln2\"][0:len(sorted_1)-3]\n",
    "print(\"\\u03BB=\",len(sorted_1[\"ln2\"][0:len(sorted_1)-3])/ev,\n",
    "      \" \\u03BC=\", stat.mean(sorted_1[\"ln2\"][0:len(sorted_1)-3]), \"  \\u03C3=\", m.sqrt(stat.variance(sorted_1[\"ln2\"][0:len(sorted_1)-3])))\n",
    "\n",
    "oploss_montecarlo(len(sorted_1[\"ln2\"][0:len(sorted_1)-3])/ev, \n",
    "                  stat.mean(sorted_1[\"ln2\"][0:len(sorted_1)-3]), \n",
    "                  m.sqrt(stat.pvariance(sorted_1[\"ln2\"][0:len(sorted_1)-3])),\n",
    "                  50000,100,100000)"
   ]
  },
  {
   "cell_type": "markdown",
   "metadata": {},
   "source": [
    "## Tőkebecslés csoportosítva:"
   ]
  },
  {
   "cell_type": "markdown",
   "metadata": {},
   "source": [
    "Láthatóan az első csoport lambda értéke alcsony: λ= 2.5 így érdemes a csalásokat egy nagy kategóriába összevonni"
   ]
  },
  {
   "cell_type": "code",
   "execution_count": 9,
   "metadata": {},
   "outputs": [],
   "source": [
    "full_capital_csop = 0"
   ]
  },
  {
   "cell_type": "code",
   "execution_count": 10,
   "metadata": {},
   "outputs": [
    {
     "name": "stdout",
     "output_type": "stream",
     "text": [
      "λ= 184.84615384615384  μ= 11.86686071450331   σ= 1.4613922130868684\n"
     ]
    },
    {
     "data": {
      "text/plain": [
       "181253372.178828"
      ]
     },
     "execution_count": 10,
     "metadata": {},
     "output_type": "execute_result"
    }
   ],
   "source": [
    "event_type_csop1 = df[df['group_1'].isin(['1','2'])]\n",
    "print(\"\\u03BB=\",len(event_type_csop1)/ev,\n",
    "      \" \\u03BC=\", stat.mean(event_type_csop1[\"ln2\"]), \"  \\u03C3=\", m.sqrt(stat.pvariance(event_type_csop1[\"ln2\"])))\n",
    "\n",
    "type_1_2_cap=oploss_montecarlo(len(event_type_csop1)/ev, stat.mean(event_type_csop1[\"ln2\"]), m.sqrt(stat.pvariance(event_type_csop1[\"ln2\"])),50000,100,100000)\n",
    "full_capital_csop += type_1_2_cap\n",
    "type_1_2_cap"
   ]
  },
  {
   "cell_type": "markdown",
   "metadata": {},
   "source": [
    "A csoportok összevonásával a becsült tőkekövetelmény összesítve csökken nagyságrendlieg 2 milliárd értékben"
   ]
  },
  {
   "cell_type": "code",
   "execution_count": 11,
   "metadata": {},
   "outputs": [
    {
     "name": "stdout",
     "output_type": "stream",
     "text": [
      "λ= 28.692307692307693  μ= 12.76709908323558   σ= 2.390201469699335\n"
     ]
    },
    {
     "data": {
      "text/plain": [
       "4941714440.545105"
      ]
     },
     "execution_count": 11,
     "metadata": {},
     "output_type": "execute_result"
    }
   ],
   "source": [
    "event_type_csop2 = df[df['group_1'].isin(['3','4'])]\n",
    "print(\"\\u03BB=\",len(event_type_csop2)/ev,\n",
    "      \" \\u03BC=\", stat.mean(event_type_csop2[\"ln2\"]), \"  \\u03C3=\", m.sqrt(stat.pvariance(event_type_csop2[\"ln2\"])))\n",
    "\n",
    "type_3_4_cap=oploss_montecarlo(len(event_type_csop2)/ev, stat.mean(event_type_csop2[\"ln2\"]), m.sqrt(stat.pvariance(event_type_csop2[\"ln2\"])),50000,100,100000)\n",
    "full_capital_csop += type_3_4_cap\n",
    "type_3_4_cap"
   ]
  },
  {
   "cell_type": "code",
   "execution_count": 38,
   "metadata": {},
   "outputs": [],
   "source": [
    "full_capital_csop += type_5_cap + type_6_cap + type_7_cap"
   ]
  },
  {
   "cell_type": "code",
   "execution_count": 39,
   "metadata": {},
   "outputs": [
    {
     "data": {
      "text/plain": [
       "7396849800.266216"
      ]
     },
     "execution_count": 39,
     "metadata": {},
     "output_type": "execute_result"
    }
   ],
   "source": [
    "full_capital_csop"
   ]
  },
  {
   "cell_type": "markdown",
   "metadata": {},
   "source": [
    "## Szcenárióval kiegészített hibrid modell:"
   ]
  },
  {
   "cell_type": "markdown",
   "metadata": {},
   "source": [
    "1.Csalás szcenárió: λ= 0.125  μ= 20.059390864021  σ= 0.3669234186377783"
   ]
  },
  {
   "cell_type": "code",
   "execution_count": 3,
   "metadata": {},
   "outputs": [],
   "source": [
    "event_type_csop1 = df[df['group_1'].isin(['1','2'])]"
   ]
  },
  {
   "cell_type": "code",
   "execution_count": 20,
   "metadata": {},
   "outputs": [
    {
     "name": "stdout",
     "output_type": "stream",
     "text": [
      "Tőke értéke szcenárió nélkül: 181201827   A tőke értéke scenárióval:  1121812431\n"
     ]
    }
   ],
   "source": [
    "lambda1= len(event_type_csop1)/ev\n",
    "mu1 = stat.mean(event_type_csop1[\"ln2\"])\n",
    "sigma1 = m.sqrt(stat.pvariance(event_type_csop1[\"ln2\"]))\n",
    "correction = 50000\n",
    "\n",
    "lambda2 = 0.125\n",
    "mu2 = 20.059390864021\n",
    "sigma2 = 0.3669234186377783\n",
    "\n",
    "maincycle = 100\n",
    "subcycle = 100000\n",
    "subcycle_scenario = 25000\n",
    "\n",
    "yearly_losses=[]\n",
    "yearly_losses_scen =[]\n",
    "\n",
    "for cycle in range(maincycle):\n",
    "    \n",
    "    operating_loss = []    \n",
    "    lambdalist1 = np.random.poisson(lambda1, subcycle)\n",
    "    lambdalist2 = np.random.poisson(lambda2, subcycle_scenario)\n",
    "    \n",
    "    for lambdas1 in lambdalist1:\n",
    "        num = sum(np.random.lognormal(mu1, sigma1, lambdas1).tolist()) + lambdas1*correction\n",
    "        operating_loss.append(num)\n",
    "    yearly_losses.append(np.percentile(np.array(operating_loss),99.9))\n",
    "    \n",
    "    for lambdas2 in lambdalist2:\n",
    "        num = sum(np.random.lognormal(mu2, sigma2, lambdas2).tolist())\n",
    "        operating_loss.append(num)\n",
    "    yearly_losses_scen.append(np.percentile(np.array(operating_loss),99.9))\n",
    "    \n",
    "capital1 = stat.mean(yearly_losses)\n",
    "capital_scan = stat.mean(yearly_losses_scen)\n",
    "print(\"Tőke értéke szcenárió nélkül:\", round(capital1), \"  A tőke értéke scenárióval: \", round(capital_scan))"
   ]
  },
  {
   "cell_type": "markdown",
   "metadata": {},
   "source": [
    "2 csoport szcenárió kulcs munkatársak távozása: \n",
    "λ= 0.25  μ= 17.608052194631  σ= 0.321966120194086"
   ]
  },
  {
   "cell_type": "code",
   "execution_count": 21,
   "metadata": {},
   "outputs": [],
   "source": [
    "event_type_csop2 = df[df['group_1'].isin(['3','4'])]"
   ]
  },
  {
   "cell_type": "code",
   "execution_count": 22,
   "metadata": {},
   "outputs": [
    {
     "name": "stdout",
     "output_type": "stream",
     "text": [
      "Tőke értéke szcenárió nélkül: 4880292132   A tőke értéke scenárióval:  4322810446\n"
     ]
    }
   ],
   "source": [
    "lambda1= len(event_type_csop2)/ev\n",
    "mu1 = stat.mean(event_type_csop2[\"ln2\"])\n",
    "sigma1 = m.sqrt(stat.pvariance(event_type_csop2[\"ln2\"]))\n",
    "correction = 50000\n",
    "\n",
    "lambda2 = 0.25\n",
    "mu2 = 17.608052194631\n",
    "sigma2 = 0.321966120194086\n",
    "\n",
    "maincycle = 100\n",
    "subcycle = 100000\n",
    "subcycle_scenario = 25000\n",
    "\n",
    "yearly_losses=[]\n",
    "yearly_losses_scen =[]\n",
    "\n",
    "for cycle in range(maincycle):\n",
    "    \n",
    "    operating_loss = []    \n",
    "    lambdalist1 = np.random.poisson(lambda1, subcycle)\n",
    "    lambdalist2 = np.random.poisson(lambda2, subcycle_scenario)\n",
    "    \n",
    "    for lambdas1 in lambdalist1:\n",
    "        num = sum(np.random.lognormal(mu1, sigma1, lambdas1).tolist()) + lambdas1*correction\n",
    "        operating_loss.append(num)\n",
    "    yearly_losses.append(np.percentile(np.array(operating_loss),99.9))\n",
    "    \n",
    "    for lambdas2 in lambdalist2:\n",
    "        num = sum(np.random.lognormal(mu2, sigma2, lambdas2).tolist())\n",
    "        operating_loss.append(num)\n",
    "    yearly_losses_scen.append(np.percentile(np.array(operating_loss),99.9))\n",
    "    \n",
    "capital1 = stat.mean(yearly_losses)\n",
    "capital_scan = stat.mean(yearly_losses_scen)\n",
    "print(\"Tőke értéke szcenárió nélkül:\", round(capital1), \"  A tőke értéke scenárióval: \", round(capital_scan))"
   ]
  },
  {
   "cell_type": "markdown",
   "metadata": {},
   "source": [
    "3.csoport szcenárió természeti katasztrófa: \n",
    "λ= 0.05  μ= 19.4153350593459  σ= 0.454089148768531"
   ]
  },
  {
   "cell_type": "code",
   "execution_count": 23,
   "metadata": {},
   "outputs": [],
   "source": [
    "event_type_5 = df[df['group_1']== \"5\"]"
   ]
  },
  {
   "cell_type": "code",
   "execution_count": 24,
   "metadata": {},
   "outputs": [
    {
     "name": "stdout",
     "output_type": "stream",
     "text": [
      "Tőke értéke szcenárió nélkül: 104688702   A tőke értéke scenárióval:  498697275\n"
     ]
    }
   ],
   "source": [
    "lambda1= len(event_type_5)/ev\n",
    "mu1 = stat.mean(event_type_5[\"ln2\"])\n",
    "sigma1 = m.sqrt(stat.pvariance(event_type_5[\"ln2\"]))\n",
    "correction = 50000\n",
    "\n",
    "lambda2 = 0.05\n",
    "mu2 = 19.4153350593459 \n",
    "sigma2 = 0.454089148768531\n",
    "\n",
    "maincycle = 100\n",
    "subcycle = 100000\n",
    "subcycle_scenario = 25000\n",
    "\n",
    "yearly_losses=[]\n",
    "yearly_losses_scen =[]\n",
    "\n",
    "for cycle in range(maincycle):\n",
    "    \n",
    "    operating_loss = []    \n",
    "    lambdalist1 = np.random.poisson(lambda1, subcycle)\n",
    "    lambdalist2 = np.random.poisson(lambda2, subcycle_scenario)\n",
    "    \n",
    "    for lambdas1 in lambdalist1:\n",
    "        num = sum(np.random.lognormal(mu1, sigma1, lambdas1).tolist()) + lambdas1*correction\n",
    "        operating_loss.append(num)\n",
    "    yearly_losses.append(np.percentile(np.array(operating_loss),99.9))\n",
    "    \n",
    "    for lambdas2 in lambdalist2:\n",
    "        num = sum(np.random.lognormal(mu2, sigma2, lambdas2).tolist())\n",
    "        operating_loss.append(num)\n",
    "    yearly_losses_scen.append(np.percentile(np.array(operating_loss),99.9))\n",
    "    \n",
    "capital1 = stat.mean(yearly_losses)\n",
    "capital_scan = stat.mean(yearly_losses_scen)\n",
    "print(\"Tőke értéke szcenárió nélkül:\", round(capital1), \"  A tőke értéke scenárióval: \", round(capital_scan))"
   ]
  },
  {
   "cell_type": "markdown",
   "metadata": {},
   "source": [
    "4.csoport szcenárió rendszerhiba: λ= 0.5 μ= 17.4921105641862 σ= 0.524788171131753"
   ]
  },
  {
   "cell_type": "code",
   "execution_count": 25,
   "metadata": {},
   "outputs": [],
   "source": [
    "event_type_6 = df[df['group_1']== \"6\"]"
   ]
  },
  {
   "cell_type": "code",
   "execution_count": 26,
   "metadata": {},
   "outputs": [
    {
     "name": "stdout",
     "output_type": "stream",
     "text": [
      "Tőke értéke szcenárió nélkül: 5009672725   A tőke értéke scenárióval:  4422291239\n"
     ]
    }
   ],
   "source": [
    "lambda1= len(event_type_6)/ev\n",
    "mu1 = stat.mean(event_type_6[\"ln2\"])\n",
    "sigma1 = m.sqrt(stat.pvariance(event_type_6[\"ln2\"]))\n",
    "correction = 50000\n",
    "\n",
    "lambda2 = 0.5\n",
    "mu2 = 17.4921105641862\n",
    "sigma2 = 0.524788171131753\n",
    "\n",
    "maincycle = 100\n",
    "subcycle = 100000\n",
    "subcycle_scenario = 25000\n",
    "\n",
    "yearly_losses=[]\n",
    "yearly_losses_scen =[]\n",
    "\n",
    "for cycle in range(maincycle):\n",
    "    \n",
    "    operating_loss = []    \n",
    "    lambdalist1 = np.random.poisson(lambda1, subcycle)\n",
    "    lambdalist2 = np.random.poisson(lambda2, subcycle_scenario)\n",
    "    \n",
    "    for lambdas1 in lambdalist1:\n",
    "        num = sum(np.random.lognormal(mu1, sigma1, lambdas1).tolist()) + lambdas1*correction\n",
    "        operating_loss.append(num)\n",
    "    yearly_losses.append(np.percentile(np.array(operating_loss),99.9))\n",
    "    \n",
    "    for lambdas2 in lambdalist2:\n",
    "        num = sum(np.random.lognormal(mu2, sigma2, lambdas2).tolist())\n",
    "        operating_loss.append(num)\n",
    "    yearly_losses_scen.append(np.percentile(np.array(operating_loss),99.9))\n",
    "    \n",
    "capital1 = stat.mean(yearly_losses)\n",
    "capital_scan = stat.mean(yearly_losses_scen)\n",
    "print(\"Tőke értéke szcenárió nélkül:\", round(capital1), \"  A tőke értéke scenárióval: \", round(capital_scan))"
   ]
  },
  {
   "cell_type": "markdown",
   "metadata": {},
   "source": [
    "5.csoport szcenárió szállítói nem teljesítés: λ= 0.33 μ= 17.5432136035585 σ= 0.415157218401507"
   ]
  },
  {
   "cell_type": "code",
   "execution_count": 27,
   "metadata": {},
   "outputs": [],
   "source": [
    "event_type_7 = df[df['group_1']== \"7\"]"
   ]
  },
  {
   "cell_type": "code",
   "execution_count": 28,
   "metadata": {},
   "outputs": [
    {
     "name": "stdout",
     "output_type": "stream",
     "text": [
      "Tőke értéke szcenárió nélkül: 720679655   A tőke értéke scenárióval:  674608963\n"
     ]
    }
   ],
   "source": [
    "lambda1= len(event_type_7)/ev\n",
    "mu1 = stat.mean(event_type_7[\"ln2\"])\n",
    "sigma1 = m.sqrt(stat.pvariance(event_type_7[\"ln2\"]))\n",
    "correction = 50000\n",
    "\n",
    "lambda2 = 0.33\n",
    "mu2 = 17.5432136035585\n",
    "sigma2 = 0.415157218401507\n",
    "\n",
    "maincycle = 100\n",
    "subcycle = 100000\n",
    "subcycle_scenario = 25000\n",
    "\n",
    "yearly_losses=[]\n",
    "yearly_losses_scen =[]\n",
    "\n",
    "for cycle in range(maincycle):\n",
    "    \n",
    "    operating_loss = []    \n",
    "    lambdalist1 = np.random.poisson(lambda1, subcycle)\n",
    "    lambdalist2 = np.random.poisson(lambda2, subcycle_scenario)\n",
    "    \n",
    "    for lambdas1 in lambdalist1:\n",
    "        num = sum(np.random.lognormal(mu1, sigma1, lambdas1).tolist()) + lambdas1*correction\n",
    "        operating_loss.append(num)\n",
    "    yearly_losses.append(np.percentile(np.array(operating_loss),99.9))\n",
    "    \n",
    "    for lambdas2 in lambdalist2:\n",
    "        num = sum(np.random.lognormal(mu2, sigma2, lambdas2).tolist())\n",
    "        operating_loss.append(num)\n",
    "    yearly_losses_scen.append(np.percentile(np.array(operating_loss),99.9))\n",
    "    \n",
    "capital1 = stat.mean(yearly_losses)\n",
    "capital_scan = stat.mean(yearly_losses_scen)\n",
    "print(\"Tőke értéke szcenárió nélkül:\", round(capital1), \"  A tőke értéke scenárióval: \", round(capital_scan))"
   ]
  }
 ],
 "metadata": {
  "colab": {
   "collapsed_sections": [],
   "name": "thesis code.ipynb",
   "provenance": []
  },
  "kernelspec": {
   "display_name": "Python 3",
   "language": "python",
   "name": "python3"
  },
  "language_info": {
   "codemirror_mode": {
    "name": "ipython",
    "version": 3
   },
   "file_extension": ".py",
   "mimetype": "text/x-python",
   "name": "python",
   "nbconvert_exporter": "python",
   "pygments_lexer": "ipython3",
   "version": "3.8.5"
  }
 },
 "nbformat": 4,
 "nbformat_minor": 1
}
